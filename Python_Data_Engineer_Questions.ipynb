{
  "nbformat": 4,
  "nbformat_minor": 0,
  "metadata": {
    "colab": {
      "provenance": [],
      "toc_visible": true,
      "authorship_tag": "ABX9TyPbnC0/arLtr4TBiwl5KLt5",
      "include_colab_link": true
    },
    "kernelspec": {
      "name": "python3",
      "display_name": "Python 3"
    },
    "language_info": {
      "name": "python"
    }
  },
  "cells": [
    {
      "cell_type": "markdown",
      "metadata": {
        "id": "view-in-github",
        "colab_type": "text"
      },
      "source": [
        "<a href=\"https://colab.research.google.com/github/ankitarm/Python_Data_Engineer_Questions/blob/main/Python_Data_Engineer_Questions.ipynb\" target=\"_parent\"><img src=\"https://colab.research.google.com/assets/colab-badge.svg\" alt=\"Open In Colab\"/></a>"
      ]
    },
    {
      "cell_type": "markdown",
      "source": [
        "https://www.interviewquery.com/p/data-engineer-python-questions\n",
        "https://dataengineeracademy.com/module/100-python-coding-questions-for-data-engineers/\n",
        "https://www.datacamp.com/blog/top-python-interview-questions-and-answers\n",
        "https://medium.com/@sounder.rahul/python-data-engineers-coding-interview-questions-part-1-4e2f6b22c22d\n",
        "https://devinterview.io/questions/web-and-mobile-development/python-interview-questions/\n",
        "https://www.youtube.com/watch?v=DPT2prcQhu8\n"
      ],
      "metadata": {
        "id": "SyQabKo94Ma-"
      }
    },
    {
      "cell_type": "markdown",
      "source": [
        "# Python Questions"
      ],
      "metadata": {
        "id": "0Nfomz-_OChM"
      }
    },
    {
      "cell_type": "markdown",
      "source": [
        "# 1: Count Characters in a String"
      ],
      "metadata": {
        "id": "bva8eYrPPvlQ"
      }
    },
    {
      "cell_type": "code",
      "source": [
        "Input1: \"banana\"\n",
        "#Output: {'b': 1, 'a': 3, 'n': 2}\n",
        "\n",
        "def count_characters(s):\n",
        "    char_count = {}\n",
        "    for char in s:\n",
        "        char_count[char] = char_count.get(char, 0) + 1\n",
        "    return char_count\n",
        "\n",
        "# Test\n",
        "print(count_characters(\"banana\"))\n"
      ],
      "metadata": {
        "colab": {
          "base_uri": "https://localhost:8080/"
        },
        "id": "4ciK-q0lR89R",
        "outputId": "30d92ba5-bdf9-47c3-fcfd-41677ac2869e"
      },
      "execution_count": null,
      "outputs": [
        {
          "output_type": "stream",
          "name": "stdout",
          "text": [
            "{'b': 1, 'a': 3, 'n': 2}\n"
          ]
        }
      ]
    },
    {
      "cell_type": "markdown",
      "source": [
        "# Two Sum"
      ],
      "metadata": {
        "id": "_kpy2L4O5Tkb"
      }
    },
    {
      "cell_type": "markdown",
      "source": [
        "Given an array of integers nums and an integer target, return indices of the two numbers such that they add up to target.\n",
        "Input: nums = [2,7,11,15], target = 9\n",
        "Output: [0,1]\n",
        "Explanation: Because nums[0] + nums[1] == 9, we return [0, 1].\n"
      ],
      "metadata": {
        "id": "5KQEwCg55gJA"
      }
    },
    {
      "cell_type": "code",
      "source": [
        "def twoSum(nums, target):\n",
        "  check = {}\n",
        "  for index in range(len(nums)):\n",
        "    value = target - nums[index]\n",
        "    if value not in check:\n",
        "      check[nums[index]] = index\n",
        "    else:\n",
        "      return [check[value], index]\n",
        "\n",
        "nums = [2,11,7,15]\n",
        "target = 18\n",
        "twoSum(nums, target)\n",
        "\n"
      ],
      "metadata": {
        "colab": {
          "base_uri": "https://localhost:8080/"
        },
        "id": "beohzBVY5ZlS",
        "outputId": "04eff630-09db-4432-a05b-1bcf456457ca"
      },
      "execution_count": null,
      "outputs": [
        {
          "output_type": "execute_result",
          "data": {
            "text/plain": [
              "[1, 2]"
            ]
          },
          "metadata": {},
          "execution_count": 12
        }
      ]
    },
    {
      "cell_type": "markdown",
      "source": [
        "# Longest Substring Without Repeating Characters"
      ],
      "metadata": {
        "id": "Au9_AYWt-0GI"
      }
    },
    {
      "cell_type": "markdown",
      "source": [
        "Input: s = \"abcabcbb\"\n",
        "Output: 3\n",
        "Explanation: The answer is \"abc\", with the length of 3."
      ],
      "metadata": {
        "id": "D15-c4Ur_CIg"
      }
    },
    {
      "cell_type": "code",
      "source": [
        "def longestSub(s):\n",
        "  lenset = set()\n",
        "  max_len = 0\n",
        "  left = 0\n",
        "  for i in range(len(s)):\n",
        "    while s[i] in lenset:\n",
        "      lenset.remove(s[left])\n",
        "      print(lenset)\n",
        "      left+=1\n",
        "    lenset.add(s[i])\n",
        "    max_len = max(max_len,i-left+1)\n",
        "  return max_len,lenset\n",
        "\n",
        "s = \"pwwkew\"\n",
        "longestSub(s)"
      ],
      "metadata": {
        "colab": {
          "base_uri": "https://localhost:8080/"
        },
        "id": "V2wv_pGyAPRX",
        "outputId": "5a57fd3d-26dc-4208-f638-93a18fb3bded"
      },
      "execution_count": null,
      "outputs": [
        {
          "output_type": "stream",
          "name": "stdout",
          "text": [
            "{'w'}\n",
            "set()\n",
            "{'k', 'e'}\n"
          ]
        },
        {
          "output_type": "execute_result",
          "data": {
            "text/plain": [
              "(3, {'e', 'k', 'w'})"
            ]
          },
          "metadata": {},
          "execution_count": 21
        }
      ]
    },
    {
      "cell_type": "markdown",
      "source": [
        "# 5. Longest Palindromic Substring"
      ],
      "metadata": {
        "id": "h224_WYdZk2y"
      }
    },
    {
      "cell_type": "markdown",
      "source": [
        "Given a string s, return the longest palindromic substring in s.\n",
        "Example 1:\n",
        "\n",
        "Input: s = \"babad\"\n",
        "Output: \"bab\"\n",
        "Explanation: \"aba\" is also a valid answer.\n",
        "Example 2:\n",
        "\n",
        "Input: s = \"cbbd\"\n",
        "Output: \"bb\"\n",
        "\n",
        "Sure! Here's how you can write the **theoretical steps** in a **Google Colab notebook-friendly format** (with Markdown cells for explanations and a Code cell for the implementation):\n",
        "\n",
        "---\n",
        "\n",
        " 📘 Step-by-Step Explanation of \"Longest Palindromic Substring\" Using Expand Around Center\n",
        "\n",
        "<details>\n",
        "<summary>👀 Click to view the logic explained with example: <code>s = \"babad\"</code></summary>\n",
        "\n",
        "---\n",
        "\n",
        " 🔁 Step 1: Iterate Over Each Character\n",
        "\n",
        "* For each character in the string `s`, we treat it as the **center of a potential palindrome**.\n",
        "* We need to check **odd-length** and **even-length** palindromes centered at that character.\n",
        "\n",
        "---\n",
        "\n",
        " 🔍 Step 2: Expand Around Center\n",
        "\n",
        "* For odd-length: call `expand(i, i)`\n",
        "\n",
        "  * e.g. for `'babad'`, index `1` → expand(1,1) gives `\"bab\"`\n",
        "* For even-length: call `expand(i, i+1)`\n",
        "\n",
        "  * e.g. for `'cbbd'`, index `1` → expand(1,2) gives `\"bb\"`\n",
        "\n",
        "---\n",
        "\n",
        " 💡 Step 3: Define Expand Function\n",
        "\n",
        "* Keep expanding `left--` and `right++` as long as:\n",
        "\n",
        "  * Both are within bounds\n",
        "  * `s[left] == s[right]`\n",
        "* When expansion breaks, return the substring from `left+1` to `right`.\n",
        "\n",
        "---\n",
        "\n",
        " 🏆 Step 4: Track the Longest Palindrome\n",
        "\n",
        "* Keep a variable `longest` to store the longest palindrome found so far.\n",
        "* After each expansion, compare lengths and update if needed.\n",
        "---\n",
        "\n",
        " 📊 Example Walkthrough of `s = \"babad\"`\n",
        "\n",
        "| Index `i` | Center Type | Expanded Indices | Substring Found | Is Palindrome? | Longest So Far     |\n",
        "| --------- | ----------- | ---------------- | --------------- | -------------- | ------------------ |\n",
        "| 0         | Odd (0,0)   | (0,0) → `'b'`    | `\"b\"`           | ✅              | `\"b\"`              |\n",
        "| 0         | Even (0,1)  | `'b' != 'a'`     | `\"\"`            | ❌              | `\"b\"`              |\n",
        "| 1         | Odd (1,1)   | (0,2) → `'bab'`  | `\"bab\"`         | ✅              | `\"bab\"`            |\n",
        "| 1         | Even (1,2)  | `'a' != 'b'`     | `\"\"`            | ❌              | `\"bab\"`            |\n",
        "| 2         | Odd (2,2)   | (1,3) → `'aba'`  | `\"aba\"`         | ✅              | `\"bab\"` or `\"aba\"` |\n",
        "| 2         | Even (2,3)  | `'b' != 'a'`     | `\"\"`            | ❌              | `\"bab\"` or `\"aba\"` |\n",
        "| 3         | Odd (3,3)   | (3,3) → `'a'`    | `\"a\"`           | ✅              | `\"bab\"` or `\"aba\"` |\n",
        "| 3         | Even (3,4)  | `'a' != 'd'`     | `\"\"`            | ❌              | `\"bab\"` or `\"aba\"` |\n",
        "| 4         | Odd (4,4)   | (4,4) → `'d'`    | `\"d\"`           | ✅              | `\"bab\"` or `\"aba\"` |\n",
        "| 4         | Even (4,5)  | Out of bounds    | `\"\"`            | ❌              | `\"bab\"` or `\"aba\"` |\n",
        "\n",
        "---\n",
        "\n",
        " ✅ Final Answer: `\"bab\"` or `\"aba\"`\n",
        "\n",
        "Both are valid outputs as they have the same max length (3) and are palindromes.\n"
      ],
      "metadata": {
        "id": "lQ4mGzTzfZcU"
      }
    },
    {
      "cell_type": "code",
      "source": [
        "class Solution(object):\n",
        "    def longestPalindrome(self, s):\n",
        "        \"\"\"\n",
        "        :type s: str\n",
        "        :rtype: str\n",
        "        \"\"\"\n",
        "        def expand(left,right):\n",
        "            while left>=0 and right<len(s) and s[left] == s[right]:\n",
        "                left-=1\n",
        "                right+=1\n",
        "            return s[left+1:right]\n",
        "        max_len = \"\"\n",
        "        if len(s)==0:\n",
        "            return \"\"\n",
        "        for i in range(len(s)):\n",
        "            even = expand(i,i+1)\n",
        "            odd = expand(i,i)\n",
        "            max_len = max(even,odd,max_len,key=len)\n",
        "            if len(max_len)==len(s):\n",
        "                break\n",
        "        return max_len\n",
        "\n",
        "if __name__ == \"__main__\":\n",
        "  a = Solution()\n",
        "  s = \"kkkkkkbababsdf\"\n",
        "  k = a.longestPalindrome(s)\n",
        "  print(k)"
      ],
      "metadata": {
        "id": "76bbo8EadGT3",
        "colab": {
          "base_uri": "https://localhost:8080/"
        },
        "outputId": "2a0eee1b-84a2-4814-a6c8-b12191ffbea0"
      },
      "execution_count": 5,
      "outputs": [
        {
          "output_type": "stream",
          "name": "stdout",
          "text": [
            "kkkkkk\n"
          ]
        }
      ]
    },
    {
      "cell_type": "markdown",
      "source": [
        "# 2: Most Frequent Element"
      ],
      "metadata": {
        "id": "LpY7hRyNQH8I"
      }
    },
    {
      "cell_type": "code",
      "source": [
        "Input2: [1, 3, 1, 3, 2, 1]\n",
        "#Output: 1\n",
        "\n",
        "def most_frequent(nums):\n",
        "    freq = {}\n",
        "    for num in nums:\n",
        "        freq[num] = freq.get(num, 0) + 1\n",
        "\n",
        "    # Find the element with the highest frequency\n",
        "    max_freq = 0\n",
        "    result = None\n",
        "    for num, count in freq.items():\n",
        "        if count > max_freq:\n",
        "            max_freq = count\n",
        "            result = num\n",
        "    return result\n",
        "\n",
        "# Test\n",
        "print(most_frequent([1, 3, 1, 3, 2, 1]))\n"
      ],
      "metadata": {
        "colab": {
          "base_uri": "https://localhost:8080/"
        },
        "id": "WA6BJvG7SKSA",
        "outputId": "6f05574b-367b-4511-f404-1e1481ccaa87"
      },
      "execution_count": null,
      "outputs": [
        {
          "output_type": "stream",
          "name": "stdout",
          "text": [
            "1\n"
          ]
        }
      ]
    },
    {
      "cell_type": "markdown",
      "source": [
        "# 3: Group Words by Length"
      ],
      "metadata": {
        "id": "RSiiHJkUQMV9"
      }
    },
    {
      "cell_type": "code",
      "source": [
        "Input3: [\"cat\", \"dog\", \"apple\", \"hi\", \"run\"]\n",
        "#Output: {3: ['cat', 'dog', 'run'], 5: ['apple'], 2: ['hi']}\n",
        "\n",
        "def group_by_length(words):\n",
        "    length_dict = {}\n",
        "    for word in words:\n",
        "        length = len(word)\n",
        "        if length not in length_dict:\n",
        "            length_dict[length] = []\n",
        "        length_dict[length].append(word)\n",
        "    return length_dict\n",
        "\n",
        "# Test\n",
        "print(group_by_length([\"cat\", \"dog\", \"apple\", \"hi\", \"run\"]))\n"
      ],
      "metadata": {
        "colab": {
          "base_uri": "https://localhost:8080/"
        },
        "id": "wRnLBcg4STjp",
        "outputId": "94f201c9-714c-4c5a-a7ff-466072361d0e"
      },
      "execution_count": null,
      "outputs": [
        {
          "output_type": "stream",
          "name": "stdout",
          "text": [
            "{3: ['cat', 'dog', 'run'], 5: ['apple'], 2: ['hi']}\n"
          ]
        }
      ]
    },
    {
      "cell_type": "markdown",
      "source": [
        "# 4 : Find sum of all items in a dictionary.\n"
      ],
      "metadata": {
        "id": "9QCyuM-9QTGn"
      }
    },
    {
      "cell_type": "code",
      "source": [
        "input = {'a':100,'b':200,'c':300}\n",
        "\n",
        "def valSum(input):\n",
        "  sumval = 0\n",
        "  for key in input:\n",
        "    sumval += input[key]\n",
        "  return sumval\n",
        "\n",
        "valSum(input)"
      ],
      "metadata": {
        "colab": {
          "base_uri": "https://localhost:8080/"
        },
        "id": "HIY-nxzdQ118",
        "outputId": "3f579112-3489-4639-adff-8a165e9e183a"
      },
      "execution_count": null,
      "outputs": [
        {
          "output_type": "execute_result",
          "data": {
            "text/plain": [
              "600"
            ]
          },
          "metadata": {},
          "execution_count": 4
        }
      ]
    },
    {
      "cell_type": "code",
      "source": [
        "input = {'a':100,'b':200,'c':300}\n",
        "\n",
        "def valSum(input):\n",
        "  sumval = 0\n",
        "  for val in input.values():\n",
        "    sumval += val\n",
        "  return sumval\n",
        "\n",
        "valSum(input)"
      ],
      "metadata": {
        "colab": {
          "base_uri": "https://localhost:8080/"
        },
        "id": "gCL6AIAxVjz4",
        "outputId": "ceb27df2-9185-439d-e3c0-b916f401435b"
      },
      "execution_count": null,
      "outputs": [
        {
          "output_type": "execute_result",
          "data": {
            "text/plain": [
              "600"
            ]
          },
          "metadata": {},
          "execution_count": 11
        }
      ]
    },
    {
      "cell_type": "markdown",
      "source": [
        "# 5: Dictionary group different values"
      ],
      "metadata": {
        "id": "izAbjdBlQxzk"
      }
    },
    {
      "cell_type": "code",
      "source": [
        "input = {'Sun':5, 'Mon':4, 'Tues':4, 'Wed': 4}\n",
        "\n",
        "def groupKeys(input):\n",
        "  result = {}\n",
        "  for key,value in input.items():\n",
        "    if value in result:\n",
        "      result[value].append(key)\n",
        "    else:\n",
        "      result[value] = [key]\n",
        "  return result\n",
        "\n",
        "groupKeys(input)"
      ],
      "metadata": {
        "colab": {
          "base_uri": "https://localhost:8080/"
        },
        "id": "pyf1VvhOQ1zY",
        "outputId": "d3fee765-3927-419d-d485-c228f8feff34"
      },
      "execution_count": null,
      "outputs": [
        {
          "output_type": "execute_result",
          "data": {
            "text/plain": [
              "{5: ['Sun'], 4: ['Mon', 'Tues', 'Wed']}"
            ]
          },
          "metadata": {},
          "execution_count": 10
        }
      ]
    },
    {
      "cell_type": "markdown",
      "source": [
        "# 6: nested json in list"
      ],
      "metadata": {
        "id": "l3UaevKYQ4OB"
      }
    },
    {
      "cell_type": "code",
      "source": [
        "input_list=[1,2,[7,9,[15,[12,9]]],18,10]\n",
        "\n",
        "def flattenList(input_list):\n",
        "  result = []\n",
        "  for element in input_list:\n",
        "    if type(element) is list:\n",
        "      result.extend(flattenList(element)) # merginf the lists\n",
        "    else:\n",
        "      #print(result)\n",
        "      result.append(element)\n",
        "  return result\n",
        "\n",
        "flattenList(input_list)"
      ],
      "metadata": {
        "colab": {
          "base_uri": "https://localhost:8080/"
        },
        "id": "VLPOIsAuXjwR",
        "outputId": "2290f406-c037-4bd6-fabc-a13e3d745a22"
      },
      "execution_count": null,
      "outputs": [
        {
          "output_type": "stream",
          "name": "stdout",
          "text": [
            "[]\n",
            "[1]\n",
            "[]\n",
            "[7]\n",
            "[]\n",
            "[]\n",
            "[12]\n",
            "[1, 2, 7, 9, 15, 12, 9]\n",
            "[1, 2, 7, 9, 15, 12, 9, 18]\n"
          ]
        },
        {
          "output_type": "execute_result",
          "data": {
            "text/plain": [
              "[1, 2, 7, 9, 15, 12, 9, 18, 10]"
            ]
          },
          "metadata": {},
          "execution_count": 15
        }
      ]
    },
    {
      "cell_type": "markdown",
      "source": [
        "# 7: Reverse the list with 1 character of each element capitalized and remove duplicates-without using reverse and capital functions. [P, P, J, S]"
      ],
      "metadata": {
        "id": "fik83pE3RAWq"
      }
    },
    {
      "cell_type": "code",
      "source": [
        "data=['sql','Java','java','pyspark','PYSpark']\n",
        "\n",
        "result = []\n",
        "check = []\n",
        "\n",
        "for index in range(len(data)-1,-1,-1):\n",
        "  dl = (data[index]).lower()\n",
        "  if dl not in check:\n",
        "    check.append(dl)\n",
        "    result.append(dl[0].upper())\n",
        "print(result)\n"
      ],
      "metadata": {
        "colab": {
          "base_uri": "https://localhost:8080/"
        },
        "id": "xFc4HY0KQ1wn",
        "outputId": "6ffd7154-f351-435f-dd59-5a59a9f866e7"
      },
      "execution_count": null,
      "outputs": [
        {
          "output_type": "stream",
          "name": "stdout",
          "text": [
            "['P', 'J', 'S']\n"
          ]
        }
      ]
    },
    {
      "cell_type": "markdown",
      "source": [
        "# 8: Find if strings anagram or not. -- both the strings contain same characters in any order."
      ],
      "metadata": {
        "id": "7GzhWeaORM2w"
      }
    },
    {
      "cell_type": "code",
      "source": [
        "str1=\"zacb\"\n",
        "str2=\"bcaz\"\n",
        "\n",
        "# this is wrong as it check id string reverse is same\n",
        "def anagram(str1,  str2):\n",
        "  if len(str1) != len(str2):\n",
        "    return False\n",
        "  #print(str2[::-1])\n",
        "  return str1 == str2[::-1]\n",
        "anagram(str1,str2)\n",
        "\n"
      ],
      "metadata": {
        "colab": {
          "base_uri": "https://localhost:8080/"
        },
        "id": "N5k-fiVmQ1t0",
        "outputId": "a4291792-daad-4dc7-cc00-d7e1e17af4f9"
      },
      "execution_count": null,
      "outputs": [
        {
          "output_type": "stream",
          "name": "stdout",
          "text": [
            "zacb\n"
          ]
        },
        {
          "output_type": "execute_result",
          "data": {
            "text/plain": [
              "True"
            ]
          },
          "metadata": {},
          "execution_count": 40
        }
      ]
    },
    {
      "cell_type": "code",
      "source": [
        "#this is also not correct as zz and aa. count is not validated.\n",
        "str1=\"azzcb\"\n",
        "str2=\"bcaaz\"\n",
        "\n",
        "def anagram(str1,  str2):\n",
        "  if len(str1) != len(str2):\n",
        "    return False\n",
        "\n",
        "  for index in range(len(str1)):\n",
        "    if str1[index] not in str2:\n",
        "      return False\n",
        "  return True\n",
        "anagram(str1,str2)\n"
      ],
      "metadata": {
        "colab": {
          "base_uri": "https://localhost:8080/"
        },
        "id": "-TaRMzZjQ1q6",
        "outputId": "18ed053d-7e97-44cd-837a-72ca4f999776"
      },
      "execution_count": null,
      "outputs": [
        {
          "output_type": "execute_result",
          "data": {
            "text/plain": [
              "True"
            ]
          },
          "metadata": {},
          "execution_count": 45
        }
      ]
    },
    {
      "cell_type": "markdown",
      "source": [
        "✅ Anagram Check Logic (without built-in functions):\n",
        "Two strings are anagrams if:\n",
        "\n",
        "They have the same length.\n",
        "\n",
        "They contain the same characters with the same frequency."
      ],
      "metadata": {
        "id": "S_K0YiHGm5TQ"
      }
    },
    {
      "cell_type": "code",
      "source": [
        "str1=\"azacb\"\n",
        "str2=\"bcazz\"\n",
        "\n",
        "def anagram(str1,  str2):\n",
        "  if len(str1) != len(str2):\n",
        "    return False\n",
        "  dict1 = {}\n",
        "  # mainting count in dict1\n",
        "  for char in str1:\n",
        "      dict1[char] = dict1.get(char,0)+1\n",
        "# subtracting count from dict\n",
        "  for char in str2:\n",
        "    dict1[char] = dict1.get(char,0) - 1\n",
        "#if all are 0 {a:0,b:0} then true\n",
        "  return all(val==0 for val in dict1.values())\n",
        "anagram(str1,str2)"
      ],
      "metadata": {
        "colab": {
          "base_uri": "https://localhost:8080/"
        },
        "id": "PiUvpH72Q1eI",
        "outputId": "3a088329-cdbe-46c8-9dd9-6b7c1db4eba5"
      },
      "execution_count": null,
      "outputs": [
        {
          "output_type": "execute_result",
          "data": {
            "text/plain": [
              "False"
            ]
          },
          "metadata": {},
          "execution_count": 54
        }
      ]
    },
    {
      "cell_type": "markdown",
      "source": [],
      "metadata": {
        "id": "7owUXjFQaF2K"
      }
    },
    {
      "cell_type": "markdown",
      "source": [
        "# 9: Top K Frequent Elements"
      ],
      "metadata": {
        "id": "gyYiOk1BRhJi"
      }
    },
    {
      "cell_type": "code",
      "source": [],
      "metadata": {
        "id": "RXq5ZxOFWWXZ"
      },
      "execution_count": null,
      "outputs": []
    }
  ]
}