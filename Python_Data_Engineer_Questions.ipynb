{
  "nbformat": 4,
  "nbformat_minor": 0,
  "metadata": {
    "colab": {
      "provenance": [],
      "toc_visible": true,
      "authorship_tag": "ABX9TyMnBk1H1NZ0QMfeguMTpsII",
      "include_colab_link": true
    },
    "kernelspec": {
      "name": "python3",
      "display_name": "Python 3"
    },
    "language_info": {
      "name": "python"
    }
  },
  "cells": [
    {
      "cell_type": "markdown",
      "metadata": {
        "id": "view-in-github",
        "colab_type": "text"
      },
      "source": [
        "<a href=\"https://colab.research.google.com/github/ankitarm/Python_Data_Engineer_Questions/blob/main/Python_Data_Engineer_Questions.ipynb\" target=\"_parent\"><img src=\"https://colab.research.google.com/assets/colab-badge.svg\" alt=\"Open In Colab\"/></a>"
      ]
    },
    {
      "cell_type": "markdown",
      "source": [
        "https://www.interviewquery.com/p/data-engineer-python-questions\n",
        "https://dataengineeracademy.com/module/100-python-coding-questions-for-data-engineers/\n",
        "https://www.datacamp.com/blog/top-python-interview-questions-and-answers\n",
        "https://medium.com/@sounder.rahul/python-data-engineers-coding-interview-questions-part-1-4e2f6b22c22d\n",
        "https://devinterview.io/questions/web-and-mobile-development/python-interview-questions/\n",
        "https://www.youtube.com/watch?v=DPT2prcQhu8\n"
      ],
      "metadata": {
        "id": "SyQabKo94Ma-"
      }
    },
    {
      "cell_type": "markdown",
      "source": [
        "# Python Questions"
      ],
      "metadata": {
        "id": "0Nfomz-_OChM"
      }
    },
    {
      "cell_type": "markdown",
      "source": [
        "# 1: Count Characters in a String"
      ],
      "metadata": {
        "id": "bva8eYrPPvlQ"
      }
    },
    {
      "cell_type": "code",
      "source": [
        "Input1: \"banana\"\n",
        "#Output: {'b': 1, 'a': 3, 'n': 2}\n",
        "\n",
        "def count_characters(s):\n",
        "    char_count = {}\n",
        "    for char in s:\n",
        "        char_count[char] = char_count.get(char, 0) + 1\n",
        "    return char_count\n",
        "\n",
        "# Test\n",
        "print(count_characters(\"banana\"))\n"
      ],
      "metadata": {
        "colab": {
          "base_uri": "https://localhost:8080/"
        },
        "id": "4ciK-q0lR89R",
        "outputId": "30d92ba5-bdf9-47c3-fcfd-41677ac2869e"
      },
      "execution_count": null,
      "outputs": [
        {
          "output_type": "stream",
          "name": "stdout",
          "text": [
            "{'b': 1, 'a': 3, 'n': 2}\n"
          ]
        }
      ]
    },
    {
      "cell_type": "code",
      "source": [
        "Input1: \"banana\"\n",
        "#Output: {'b': 1, 'a': 3, 'n': 2}\n",
        "\n",
        "def count_characters(s):\n",
        "    char_count = {}\n",
        "    for char in s:\n",
        "      if char not in char_count:\n",
        "        char_count[char] = 1\n",
        "      else:\n",
        "        char_count[char] += 1\n",
        "    return char_count\n",
        "\n",
        "# Test\n",
        "print(count_characters(\"banana\"))\n",
        "\n",
        "#TC : O(n) - 1 loop\n",
        "#SP : O(k) - k no of unique elements in string, worst O(n)"
      ],
      "metadata": {
        "colab": {
          "base_uri": "https://localhost:8080/"
        },
        "id": "o7COH6-Jl3jZ",
        "outputId": "6e70e789-2f18-407a-a392-49ec60b2fab9"
      },
      "execution_count": null,
      "outputs": [
        {
          "output_type": "stream",
          "name": "stdout",
          "text": [
            "{'b': 1, 'a': 3, 'n': 2}\n"
          ]
        }
      ]
    },
    {
      "cell_type": "markdown",
      "source": [
        "# 2: Most Frequent Element"
      ],
      "metadata": {
        "id": "LpY7hRyNQH8I"
      }
    },
    {
      "cell_type": "code",
      "source": [
        "Input2: [1, 3, 1, 3, 2, 1]\n",
        "#Output: 1\n",
        "\n",
        "def most_frequent(nums):\n",
        "    freq = {}\n",
        "    for num in nums:\n",
        "        freq[num] = freq.get(num, 0) + 1\n",
        "\n",
        "    # Find the element with the highest frequency\n",
        "    max_freq = 0\n",
        "    result = None\n",
        "    for num, count in freq.items():\n",
        "        if count > max_freq:\n",
        "            max_freq = count\n",
        "            result = num\n",
        "    return result\n",
        "\n",
        "# Test\n",
        "print(most_frequent([1, 3, 3, 1, 3, 2, 1]))\n",
        "#TC : O(n) + O(k) = O(n) - 1loop + 1 loop = 1\n",
        "#SP : O(k) - k no of unique elements in string, worst O(n)"
      ],
      "metadata": {
        "colab": {
          "base_uri": "https://localhost:8080/"
        },
        "id": "WA6BJvG7SKSA",
        "outputId": "29a45b8f-96eb-49fc-81cd-002fa9703de4"
      },
      "execution_count": null,
      "outputs": [
        {
          "output_type": "stream",
          "name": "stdout",
          "text": [
            "1\n"
          ]
        }
      ]
    },
    {
      "cell_type": "markdown",
      "source": [
        "# Wrong code"
      ],
      "metadata": {
        "id": "rQXB2fqsSsc0"
      }
    },
    {
      "cell_type": "code",
      "source": [
        "Input2: [1, 3, 1, 3, 2, 1]\n",
        "#Output: 1\n",
        "\n",
        "def most_frequent(nums):\n",
        "    freq = {}\n",
        "    for num in nums:\n",
        "        freq[num] = freq.get(num, 0) + 1\n",
        "\n",
        "    # Find the element with the highest frequency\n",
        "    max_freq = 0\n",
        "    result = None\n",
        "    for num, count in freq.items():\n",
        "        result = max(max_freq,count)\n",
        "    return result\n",
        "\n",
        "# Test\n",
        "print(most_frequent([1, 3, 3, 3, 2, 1]))\n"
      ],
      "metadata": {
        "colab": {
          "base_uri": "https://localhost:8080/"
        },
        "id": "8Ao1T76ap2QZ",
        "outputId": "254c9786-3290-4ba0-9a36-3bfd1f6763b3"
      },
      "execution_count": null,
      "outputs": [
        {
          "output_type": "stream",
          "name": "stdout",
          "text": [
            "1\n"
          ]
        }
      ]
    },
    {
      "cell_type": "markdown",
      "source": [
        "# 3: Group Words by Length"
      ],
      "metadata": {
        "id": "RSiiHJkUQMV9"
      }
    },
    {
      "cell_type": "code",
      "source": [
        "Input3: [\"cat\", \"dog\", \"apple\", \"hi\", \"run\"]\n",
        "#Output: {3: ['cat', 'dog', 'run'], 5: ['apple'], 2: ['hi']}\n",
        "\n",
        "def group_by_length(words):\n",
        "    length_dict = {}\n",
        "    for word in words:\n",
        "        length = len(word)\n",
        "        if length not in length_dict:\n",
        "            length_dict[length] = []\n",
        "        length_dict[length].append(word)\n",
        "    return length_dict\n",
        "\n",
        "# Test\n",
        "print(group_by_length([\"cat\", \"dog\", \"apple\", \"hi\", \"run\"]))\n",
        "\n",
        "#TC : O(n)\n",
        "#SP : O(k) - k no of unique lenghth, worst O(n)"
      ],
      "metadata": {
        "colab": {
          "base_uri": "https://localhost:8080/"
        },
        "id": "wRnLBcg4STjp",
        "outputId": "94f201c9-714c-4c5a-a7ff-466072361d0e"
      },
      "execution_count": null,
      "outputs": [
        {
          "output_type": "stream",
          "name": "stdout",
          "text": [
            "{3: ['cat', 'dog', 'run'], 5: ['apple'], 2: ['hi']}\n"
          ]
        }
      ]
    },
    {
      "cell_type": "code",
      "source": [
        "def groupByLength(input):\n",
        "  count_dict = {}\n",
        "  for word in input:\n",
        "    wL = len(word)\n",
        "    if wL in count_dict:\n",
        "      count_dict[wL].append(word)\n",
        "    else:\n",
        "      count_dict[wL] = [word]\n",
        "  return count_dict\n",
        "\n",
        "input = [\"cat\", \"dog\", \"apple\", \"hi\", \"run\"]\n",
        "groupByLength(input)"
      ],
      "metadata": {
        "colab": {
          "base_uri": "https://localhost:8080/"
        },
        "id": "Wep8tD_yUETF",
        "outputId": "af9dcb69-2db5-490a-b519-efee14a28779"
      },
      "execution_count": null,
      "outputs": [
        {
          "output_type": "execute_result",
          "data": {
            "text/plain": [
              "{3: ['cat', 'dog', 'run'], 5: ['apple'], 2: ['hi']}"
            ]
          },
          "metadata": {},
          "execution_count": 22
        }
      ]
    },
    {
      "cell_type": "markdown",
      "source": [
        "# 4 : Find sum of all items in a dictionary.\n"
      ],
      "metadata": {
        "id": "9QCyuM-9QTGn"
      }
    },
    {
      "cell_type": "code",
      "source": [
        "input = {'a':100,'b':200,'c':300}\n",
        "\n",
        "def valSum(input):\n",
        "  sumval = 0\n",
        "  for key in input:\n",
        "    sumval += input[key]\n",
        "  return sumval\n",
        "\n",
        "valSum(input)\n",
        "\n",
        "#TC : O(n)\n",
        "#SP : O(1)"
      ],
      "metadata": {
        "colab": {
          "base_uri": "https://localhost:8080/"
        },
        "id": "HIY-nxzdQ118",
        "outputId": "3f579112-3489-4639-adff-8a165e9e183a"
      },
      "execution_count": null,
      "outputs": [
        {
          "output_type": "execute_result",
          "data": {
            "text/plain": [
              "600"
            ]
          },
          "metadata": {},
          "execution_count": 4
        }
      ]
    },
    {
      "cell_type": "code",
      "source": [
        "input = {'a':100,'b':200,'c':300}\n",
        "\n",
        "def valSum(input):\n",
        "  sumval = 0\n",
        "  for val in input.values():\n",
        "    sumval += val\n",
        "  return sumval\n",
        "\n",
        "valSum(input)"
      ],
      "metadata": {
        "colab": {
          "base_uri": "https://localhost:8080/"
        },
        "id": "gCL6AIAxVjz4",
        "outputId": "ceb27df2-9185-439d-e3c0-b916f401435b"
      },
      "execution_count": null,
      "outputs": [
        {
          "output_type": "execute_result",
          "data": {
            "text/plain": [
              "600"
            ]
          },
          "metadata": {},
          "execution_count": 11
        }
      ]
    },
    {
      "cell_type": "markdown",
      "source": [
        "# 5: Dictionary group different values"
      ],
      "metadata": {
        "id": "izAbjdBlQxzk"
      }
    },
    {
      "cell_type": "code",
      "source": [
        "input = {'Sun':5, 'Mon':4, 'Tues':4, 'Wed': 4}\n",
        "\n",
        "def groupKeys(input):\n",
        "  result = {}\n",
        "  for key,value in input.items():\n",
        "    if value in result:\n",
        "      result[value].append(key)\n",
        "    else:\n",
        "      result[value] = [key]\n",
        "  return result\n",
        "\n",
        "groupKeys(input)\n",
        "\n",
        "#TC : O(n)\n",
        "#SP : O(k), worst(n)"
      ],
      "metadata": {
        "colab": {
          "base_uri": "https://localhost:8080/"
        },
        "id": "pyf1VvhOQ1zY",
        "outputId": "d3fee765-3927-419d-d485-c228f8feff34"
      },
      "execution_count": null,
      "outputs": [
        {
          "output_type": "execute_result",
          "data": {
            "text/plain": [
              "{5: ['Sun'], 4: ['Mon', 'Tues', 'Wed']}"
            ]
          },
          "metadata": {},
          "execution_count": 10
        }
      ]
    },
    {
      "cell_type": "code",
      "source": [
        "\n",
        "\n",
        "def groupLen(input):\n",
        "  result = {}\n",
        "  for key, value in input.items():\n",
        "    if value not in result:\n",
        "      result[value] = []\n",
        "    result[value].append(key)\n",
        "  return result\n",
        "\n",
        "input = {'Sun':5, 'Mon':4, 'Tues':4, 'Wed': 4}\n",
        "groupLen(input)\n",
        "\n"
      ],
      "metadata": {
        "colab": {
          "base_uri": "https://localhost:8080/"
        },
        "id": "sj9iaugxYEB-",
        "outputId": "f67147dc-f74b-410e-bd3d-93cbbd0628c2"
      },
      "execution_count": null,
      "outputs": [
        {
          "output_type": "execute_result",
          "data": {
            "text/plain": [
              "{5: ['Sun'], 4: ['Mon', 'Tues', 'Wed']}"
            ]
          },
          "metadata": {},
          "execution_count": 25
        }
      ]
    },
    {
      "cell_type": "markdown",
      "source": [
        "# 6: nested json in list"
      ],
      "metadata": {
        "id": "l3UaevKYQ4OB"
      }
    },
    {
      "cell_type": "code",
      "source": [
        "input_list=[1,2,[7,9,[15,[12,9]]],18,10]\n",
        "\n",
        "def flattenList(input_list):\n",
        "  result = []\n",
        "  for element in input_list:\n",
        "    if type(element) is list:\n",
        "      result.extend(flattenList(element)) # merginf the lists\n",
        "    else:\n",
        "      #print(result)\n",
        "      result.append(element)\n",
        "  return result\n",
        "\n",
        "flattenList(input_list)"
      ],
      "metadata": {
        "colab": {
          "base_uri": "https://localhost:8080/"
        },
        "id": "VLPOIsAuXjwR",
        "outputId": "2290f406-c037-4bd6-fabc-a13e3d745a22"
      },
      "execution_count": null,
      "outputs": [
        {
          "output_type": "stream",
          "name": "stdout",
          "text": [
            "[]\n",
            "[1]\n",
            "[]\n",
            "[7]\n",
            "[]\n",
            "[]\n",
            "[12]\n",
            "[1, 2, 7, 9, 15, 12, 9]\n",
            "[1, 2, 7, 9, 15, 12, 9, 18]\n"
          ]
        },
        {
          "output_type": "execute_result",
          "data": {
            "text/plain": [
              "[1, 2, 7, 9, 15, 12, 9, 18, 10]"
            ]
          },
          "metadata": {},
          "execution_count": 15
        }
      ]
    },
    {
      "cell_type": "code",
      "source": [
        "def convertToList(input_list):\n",
        "  result = []\n",
        "  for value in input_list:\n",
        "    if type(value) is list:\n",
        "      result.extend(convertToList(value))\n",
        "    else:\n",
        "      result.append(value)\n",
        "  return result\n",
        "\n",
        "input_list=[1,2,[7,9,[15,[12,9]]],18,10]\n",
        "convertToList(input_list)\n",
        "#TC : O(n)\n",
        "#SP : O(k), worst(n)\n"
      ],
      "metadata": {
        "colab": {
          "base_uri": "https://localhost:8080/"
        },
        "id": "CTwM0IS1ffDk",
        "outputId": "56e37395-edd2-4867-a078-f6af34ad6cde"
      },
      "execution_count": null,
      "outputs": [
        {
          "output_type": "execute_result",
          "data": {
            "text/plain": [
              "[1, 2, 7, 9, 15, 12, 9, 18, 10]"
            ]
          },
          "metadata": {},
          "execution_count": 31
        }
      ]
    },
    {
      "cell_type": "markdown",
      "source": [
        "# 7: Reverse the list with 1 character of each element capitalized and remove duplicates-without using reverse and capital functions. [P, P, J, S]"
      ],
      "metadata": {
        "id": "fik83pE3RAWq"
      }
    },
    {
      "cell_type": "code",
      "source": [
        "data=['sql','Java','java','pyspark','PYSpark']\n",
        "\n",
        "result = []\n",
        "check = []   # avoid\n",
        "\n",
        "for index in range(len(data)-1,-1,-1):\n",
        "  dl = (data[index]).lower()\n",
        "  if dl not in check:\n",
        "    check.append(dl)\n",
        "    result.append(dl[0].upper())\n",
        "print(result)\n",
        "#TC : O(n)\n",
        "#SP : O(n)"
      ],
      "metadata": {
        "colab": {
          "base_uri": "https://localhost:8080/"
        },
        "id": "xFc4HY0KQ1wn",
        "outputId": "6ffd7154-f351-435f-dd59-5a59a9f866e7"
      },
      "execution_count": null,
      "outputs": [
        {
          "output_type": "stream",
          "name": "stdout",
          "text": [
            "['P', 'J', 'S']\n"
          ]
        }
      ]
    },
    {
      "cell_type": "markdown",
      "source": [
        "\n",
        "\n",
        " Why is membership checking in a **list** O(n)?\n",
        "\n",
        "* A **list** is basically an ordered collection of elements.\n",
        "* To check if an element is in a list (`x in list`), Python has to scan the list **from start to end**, comparing each element until it finds a match or reaches the end.\n",
        "* This means in the worst case, it looks at every element.\n",
        "* So, membership checking in a list is **O(n)** where n is the length of the list.\n",
        "\n",
        "---\n",
        "\n",
        " Why is membership checking in a **set** O(1) average case?\n",
        "\n",
        "* A **set** in Python is implemented as a **hash table**.\n",
        "* When you add an element to a set, Python computes a **hash** value for that element and uses it to decide where to store it internally.\n",
        "* When you check membership (`x in set`), Python:\n",
        "\n",
        "  * Computes the hash for `x`.\n",
        "  * Uses the hash to directly jump to the internal bucket where `x` would be stored.\n",
        "  * Compares elements only in that bucket (usually very few).\n",
        "* This avoids scanning the entire collection.\n",
        "* So membership checking in a set is **O(1)** on average, meaning it takes constant time regardless of how many items are in the set.\n",
        "\n",
        "---\n",
        "\n",
        " Summary:\n",
        "\n",
        "| Data Structure | Membership Check Time | How It Works                           |\n",
        "| -------------- | --------------------- | -------------------------------------- |\n",
        "| List           | O(n)                  | Linear scan from first to last element |\n",
        "| Set            | O(1) average case     | Hash-based direct access               |\n",
        "\n",
        "---\n",
        "\n",
        " Important note:\n",
        "\n",
        "* Set membership is **average** O(1) because in rare cases, hash collisions or resizing can cause longer lookups, but those are uncommon.\n",
        "* List membership is always linear because you have no indexing by value, just by position.\n",
        "\n",
        "---\n"
      ],
      "metadata": {
        "id": "e_MPYKUXw6NU"
      }
    },
    {
      "cell_type": "code",
      "source": [
        "\n",
        "data=['sql','Java','java','pyspark','PYSpark']\n",
        "check_set = set()\n",
        "result = []\n",
        "\n",
        "for index in range(len(data)-1,-1,-1):\n",
        "  lowerWord = data[index].lower()\n",
        "  if lowerWord not in check_set:\n",
        "    check_set.add(lowerWord)\n",
        "    result.append(lowerWord[0].upper())\n",
        "print(result)\n"
      ],
      "metadata": {
        "colab": {
          "base_uri": "https://localhost:8080/"
        },
        "id": "5rKdesQAregy",
        "outputId": "8540a94d-0111-40c0-b9a3-4306508f2134"
      },
      "execution_count": null,
      "outputs": [
        {
          "output_type": "stream",
          "name": "stdout",
          "text": [
            "['P', 'J', 'S']\n"
          ]
        }
      ]
    },
    {
      "cell_type": "markdown",
      "source": [
        "# 8: Find if strings anagram or not. -- both the strings contain same characters in any order."
      ],
      "metadata": {
        "id": "7GzhWeaORM2w"
      }
    },
    {
      "cell_type": "code",
      "source": [
        "str1=\"zacb\"\n",
        "str2=\"bcaz\"\n",
        "\n",
        "# this is wrong as it check id string reverse is same\n",
        "def anagram(str1,  str2):\n",
        "  if len(str1) != len(str2):\n",
        "    return False\n",
        "  #print(str2[::-1])\n",
        "  return str1 == str2[::-1]\n",
        "anagram(str1,str2)\n",
        "\n"
      ],
      "metadata": {
        "colab": {
          "base_uri": "https://localhost:8080/"
        },
        "id": "N5k-fiVmQ1t0",
        "outputId": "a4291792-daad-4dc7-cc00-d7e1e17af4f9"
      },
      "execution_count": null,
      "outputs": [
        {
          "output_type": "stream",
          "name": "stdout",
          "text": [
            "zacb\n"
          ]
        },
        {
          "output_type": "execute_result",
          "data": {
            "text/plain": [
              "True"
            ]
          },
          "metadata": {},
          "execution_count": 40
        }
      ]
    },
    {
      "cell_type": "code",
      "source": [
        "#this is also not correct as zz and aa. count is not validated.\n",
        "str1=\"azzcb\"\n",
        "str2=\"bcaaz\"\n",
        "\n",
        "def anagram(str1,  str2):\n",
        "  if len(str1) != len(str2):\n",
        "    return False\n",
        "\n",
        "  for index in range(len(str1)):\n",
        "    if str1[index] not in str2:\n",
        "      return False\n",
        "  return True\n",
        "anagram(str1,str2)\n"
      ],
      "metadata": {
        "colab": {
          "base_uri": "https://localhost:8080/"
        },
        "id": "-TaRMzZjQ1q6",
        "outputId": "18ed053d-7e97-44cd-837a-72ca4f999776"
      },
      "execution_count": null,
      "outputs": [
        {
          "output_type": "execute_result",
          "data": {
            "text/plain": [
              "True"
            ]
          },
          "metadata": {},
          "execution_count": 45
        }
      ]
    },
    {
      "cell_type": "markdown",
      "source": [
        "✅ Anagram Check Logic (without built-in functions):\n",
        "Two strings are anagrams if:\n",
        "\n",
        "They have the same length.\n",
        "\n",
        "They contain the same characters with the same frequency."
      ],
      "metadata": {
        "id": "S_K0YiHGm5TQ"
      }
    },
    {
      "cell_type": "code",
      "source": [
        "str1=\"azacb\"\n",
        "str2=\"bcazz\"\n",
        "\n",
        "def anagram(str1,  str2):\n",
        "  if len(str1) != len(str2):\n",
        "    return False\n",
        "  dict1 = {}\n",
        "  # mainting count in dict1\n",
        "  for char in str1:\n",
        "      dict1[char] = dict1.get(char,0)+1\n",
        "# subtracting count from dict\n",
        "  for char in str2:\n",
        "    dict1[char] = dict1.get(char,0) - 1\n",
        "#if all are 0 {a:0,b:0} then true\n",
        "  return all(val==0 for val in dict1.values())\n",
        "anagram(str1,str2)\n",
        "\n",
        "#TC : O(n + n + k) = O(n)\n",
        "#SP : O(k) k<=n"
      ],
      "metadata": {
        "colab": {
          "base_uri": "https://localhost:8080/"
        },
        "id": "PiUvpH72Q1eI",
        "outputId": "3a088329-cdbe-46c8-9dd9-6b7c1db4eba5"
      },
      "execution_count": null,
      "outputs": [
        {
          "output_type": "execute_result",
          "data": {
            "text/plain": [
              "False"
            ]
          },
          "metadata": {},
          "execution_count": 54
        }
      ]
    },
    {
      "cell_type": "code",
      "source": [
        "\n",
        "def anagram(str1,str2):\n",
        "  dictCount = {}\n",
        "  if len(str1) != len(str2):\n",
        "    return False\n",
        "  for char in str1:\n",
        "    dictCount[char] = dictCount.get(char, 0) + 1\n",
        "  for char in str2:\n",
        "    dictCount[char] = dictCount.get(char, 0) - 1\n",
        "    if dictCount[char] < 0:\n",
        "      return False\n",
        "  return True\n",
        "\n",
        "str1=\"zacbs\"\n",
        "str2=\"bcaz\"\n",
        "anagram(str1,str2)\n",
        "\n",
        "#TC : O(n + n ) = O(n)\n",
        "#SP : O(k) k<=n"
      ],
      "metadata": {
        "colab": {
          "base_uri": "https://localhost:8080/"
        },
        "id": "KsQ4lUvdzmSK",
        "outputId": "c49fe476-0d77-433e-cc2b-4d3973e4dd0d"
      },
      "execution_count": null,
      "outputs": [
        {
          "output_type": "execute_result",
          "data": {
            "text/plain": [
              "False"
            ]
          },
          "metadata": {},
          "execution_count": 43
        }
      ]
    },
    {
      "cell_type": "markdown",
      "source": [
        "# Two Sum"
      ],
      "metadata": {
        "id": "_kpy2L4O5Tkb"
      }
    },
    {
      "cell_type": "markdown",
      "source": [
        "Given an array of integers nums and an integer target, return indices of the two numbers such that they add up to target.\n",
        "Input: nums = [2,7,11,15], target = 9\n",
        "Output: [0,1]\n",
        "Explanation: Because nums[0] + nums[1] == 9, we return [0, 1].\n"
      ],
      "metadata": {
        "id": "5KQEwCg55gJA"
      }
    },
    {
      "cell_type": "code",
      "source": [
        "def twoSum(nums, target):\n",
        "  check = {}\n",
        "  for index in range(len(nums)):\n",
        "    value = target - nums[index]\n",
        "    if value not in check:\n",
        "      check[nums[index]] = index\n",
        "    else:\n",
        "      return [check[value], index]\n",
        "\n",
        "nums = [2,11,7,15]\n",
        "target = 18\n",
        "twoSum(nums, target)\n",
        "\n"
      ],
      "metadata": {
        "colab": {
          "base_uri": "https://localhost:8080/"
        },
        "id": "beohzBVY5ZlS",
        "outputId": "04eff630-09db-4432-a05b-1bcf456457ca"
      },
      "execution_count": null,
      "outputs": [
        {
          "output_type": "execute_result",
          "data": {
            "text/plain": [
              "[1, 2]"
            ]
          },
          "metadata": {},
          "execution_count": 12
        }
      ]
    },
    {
      "cell_type": "code",
      "source": [
        "\n",
        "def twoSum(nums, target):\n",
        "  check = {}\n",
        "  for index, value in enumerate(nums):\n",
        "    if value in check:\n",
        "      return check[value], index\n",
        "    check[target - value] = index\n",
        "\n",
        "\n",
        "\n",
        "nums = [2,11,7,15]\n",
        "target = 9\n",
        "twoSum(nums, target)\n",
        "\n",
        "'''\n",
        "| Metric           | Complexity |\n",
        "| ---------------- | ---------- |\n",
        "| Time Complexity  | O(n)loop   |\n",
        "| Space Complexity | O(k)  k<=n |\n",
        "'''"
      ],
      "metadata": {
        "colab": {
          "base_uri": "https://localhost:8080/"
        },
        "id": "GtsSQUz25bh9",
        "outputId": "6ff89ef8-a357-40a4-fdbe-f6a798a693d0"
      },
      "execution_count": null,
      "outputs": [
        {
          "output_type": "execute_result",
          "data": {
            "text/plain": [
              "(0, 2)"
            ]
          },
          "metadata": {},
          "execution_count": 46
        }
      ]
    },
    {
      "cell_type": "markdown",
      "source": [
        "# Longest Substring Without Repeating Characters"
      ],
      "metadata": {
        "id": "Au9_AYWt-0GI"
      }
    },
    {
      "cell_type": "markdown",
      "source": [
        "Input: s = \"abcabcbb\"\n",
        "Output: 3\n",
        "Explanation: The answer is \"abc\", with the length of 3."
      ],
      "metadata": {
        "id": "D15-c4Ur_CIg"
      }
    },
    {
      "cell_type": "code",
      "source": [
        "def longestSub(s):\n",
        "  lenset = set()\n",
        "  max_len = 0\n",
        "  left = 0\n",
        "  for i in range(len(s)):\n",
        "    while s[i] in lenset:\n",
        "      lenset.remove(s[left])\n",
        "      print(lenset)\n",
        "      left+=1\n",
        "    lenset.add(s[i])\n",
        "    max_len = max(max_len,i-left+1)\n",
        "  return max_len,lenset\n",
        "\n",
        "s = \"pwwkew\"\n",
        "longestSub(s)"
      ],
      "metadata": {
        "colab": {
          "base_uri": "https://localhost:8080/"
        },
        "id": "V2wv_pGyAPRX",
        "outputId": "5a57fd3d-26dc-4208-f638-93a18fb3bded"
      },
      "execution_count": null,
      "outputs": [
        {
          "output_type": "stream",
          "name": "stdout",
          "text": [
            "{'w'}\n",
            "set()\n",
            "{'k', 'e'}\n"
          ]
        },
        {
          "output_type": "execute_result",
          "data": {
            "text/plain": [
              "(3, {'e', 'k', 'w'})"
            ]
          },
          "metadata": {},
          "execution_count": 21
        }
      ]
    },
    {
      "cell_type": "code",
      "source": [
        "def longestSub(s):\n",
        "  char_set = set()\n",
        "  max_len = 0\n",
        "  left = 0\n",
        "  for index in range(len(s)):\n",
        "    while s[index] in char_set:\n",
        "      char_set.remove(s[left])\n",
        "      left += 1\n",
        "    char_set.add(s[index])\n",
        "    max_len = max(max_len, index - left + 1)\n",
        "  return max_len, char_set\n",
        "\n",
        "\n",
        "s = \"pwwkew\"\n",
        "longestSub(s)\n",
        "\n",
        "\n"
      ],
      "metadata": {
        "colab": {
          "base_uri": "https://localhost:8080/"
        },
        "id": "O40zM6oX-huh",
        "outputId": "2574d45d-33be-4d75-a2be-2bbf34648be2"
      },
      "execution_count": 4,
      "outputs": [
        {
          "output_type": "execute_result",
          "data": {
            "text/plain": [
              "(3, {'e', 'k', 'w'})"
            ]
          },
          "metadata": {},
          "execution_count": 4
        }
      ]
    },
    {
      "cell_type": "code",
      "source": [
        "'''\n",
        "TC: O(n)\n",
        "SC: O(min(n, k))  # where k = character set size\n",
        "'''"
      ],
      "metadata": {
        "id": "KtbiMfGeSmO1"
      },
      "execution_count": null,
      "outputs": []
    },
    {
      "cell_type": "markdown",
      "source": [
        "# 5. Longest Palindromic Substring"
      ],
      "metadata": {
        "id": "h224_WYdZk2y"
      }
    },
    {
      "cell_type": "markdown",
      "source": [
        "Given a string s, return the longest palindromic substring in s.\n",
        "Example 1:\n",
        "\n",
        "Input: s = \"babad\"\n",
        "Output: \"bab\"\n",
        "Explanation: \"aba\" is also a valid answer.\n",
        "Example 2:\n",
        "\n",
        "Input: s = \"cbbd\"\n",
        "Output: \"bb\"\n",
        "\n",
        "Sure! Here's how you can write the **theoretical steps** in a **Google Colab notebook-friendly format** (with Markdown cells for explanations and a Code cell for the implementation):\n",
        "\n",
        "---\n",
        "\n",
        " 📘 Step-by-Step Explanation of \"Longest Palindromic Substring\" Using Expand Around Center\n",
        "\n",
        "<details>\n",
        "<summary>👀 Click to view the logic explained with example: <code>s = \"babad\"</code></summary>\n",
        "\n",
        "---\n",
        "\n",
        " 🔁 Step 1: Iterate Over Each Character\n",
        "\n",
        "* For each character in the string `s`, we treat it as the **center of a potential palindrome**.\n",
        "* We need to check **odd-length** and **even-length** palindromes centered at that character.\n",
        "\n",
        "---\n",
        "\n",
        " 🔍 Step 2: Expand Around Center\n",
        "\n",
        "* For odd-length: call `expand(i, i)`\n",
        "\n",
        "  * e.g. for `'babad'`, index `1` → expand(1,1) gives `\"bab\"`\n",
        "* For even-length: call `expand(i, i+1)`\n",
        "\n",
        "  * e.g. for `'cbbd'`, index `1` → expand(1,2) gives `\"bb\"`\n",
        "\n",
        "---\n",
        "\n",
        " 💡 Step 3: Define Expand Function\n",
        "\n",
        "* Keep expanding `left--` and `right++` as long as:\n",
        "\n",
        "  * Both are within bounds\n",
        "  * `s[left] == s[right]`\n",
        "* When expansion breaks, return the substring from `left+1` to `right`.\n",
        "\n",
        "---\n",
        "\n",
        " 🏆 Step 4: Track the Longest Palindrome\n",
        "\n",
        "* Keep a variable `longest` to store the longest palindrome found so far.\n",
        "* After each expansion, compare lengths and update if needed.\n",
        "---\n",
        "\n",
        " 📊 Example Walkthrough of `s = \"babad\"`\n",
        "\n",
        "| Index `i` | Center Type | Expanded Indices | Substring Found | Is Palindrome? | Longest So Far     |\n",
        "| --------- | ----------- | ---------------- | --------------- | -------------- | ------------------ |\n",
        "| 0         | Odd (0,0)   | (0,0) → `'b'`    | `\"b\"`           | ✅              | `\"b\"`              |\n",
        "| 0         | Even (0,1)  | `'b' != 'a'`     | `\"\"`            | ❌              | `\"b\"`              |\n",
        "| 1         | Odd (1,1)   | (0,2) → `'bab'`  | `\"bab\"`         | ✅              | `\"bab\"`            |\n",
        "| 1         | Even (1,2)  | `'a' != 'b'`     | `\"\"`            | ❌              | `\"bab\"`            |\n",
        "| 2         | Odd (2,2)   | (1,3) → `'aba'`  | `\"aba\"`         | ✅              | `\"bab\"` or `\"aba\"` |\n",
        "| 2         | Even (2,3)  | `'b' != 'a'`     | `\"\"`            | ❌              | `\"bab\"` or `\"aba\"` |\n",
        "| 3         | Odd (3,3)   | (3,3) → `'a'`    | `\"a\"`           | ✅              | `\"bab\"` or `\"aba\"` |\n",
        "| 3         | Even (3,4)  | `'a' != 'd'`     | `\"\"`            | ❌              | `\"bab\"` or `\"aba\"` |\n",
        "| 4         | Odd (4,4)   | (4,4) → `'d'`    | `\"d\"`           | ✅              | `\"bab\"` or `\"aba\"` |\n",
        "| 4         | Even (4,5)  | Out of bounds    | `\"\"`            | ❌              | `\"bab\"` or `\"aba\"` |\n",
        "\n",
        "---\n",
        "\n",
        " ✅ Final Answer: `\"bab\"` or `\"aba\"`\n",
        "\n",
        "Both are valid outputs as they have the same max length (3) and are palindromes.\n"
      ],
      "metadata": {
        "id": "lQ4mGzTzfZcU"
      }
    },
    {
      "cell_type": "code",
      "source": [
        "class Solution(object):\n",
        "    def longestPalindrome(self, s):\n",
        "        \"\"\"\n",
        "        :type s: str\n",
        "        :rtype: str\n",
        "        \"\"\"\n",
        "        def expand(left,right):\n",
        "            while left>=0 and right<len(s) and s[left] == s[right]:\n",
        "                left-=1\n",
        "                right+=1\n",
        "            return s[left+1:right]\n",
        "        max_len = \"\"\n",
        "        if len(s)==0:\n",
        "            return \"\"\n",
        "        for i in range(len(s)):\n",
        "            even = expand(i,i+1)\n",
        "            odd = expand(i,i)\n",
        "            max_len = max(even,odd,max_len,key=len)\n",
        "            if len(max_len)==len(s):\n",
        "                break\n",
        "        return max_len\n",
        "\n",
        "if __name__ == \"__main__\":\n",
        "  a = Solution()\n",
        "  s = \"kkkkkkbababsdf\"\n",
        "  k = a.longestPalindrome(s)\n",
        "  print(k)"
      ],
      "metadata": {
        "id": "76bbo8EadGT3",
        "colab": {
          "base_uri": "https://localhost:8080/"
        },
        "outputId": "2a0eee1b-84a2-4814-a6c8-b12191ffbea0"
      },
      "execution_count": null,
      "outputs": [
        {
          "output_type": "stream",
          "name": "stdout",
          "text": [
            "kkkkkk\n"
          ]
        }
      ]
    },
    {
      "cell_type": "code",
      "source": [
        "class Solution(object):\n",
        "    def longestPalindrome(self, s):\n",
        "      max_len = 0\n",
        "      max_substring = \"\"\n",
        "      def isPalin(left, right):\n",
        "        while left>=0 and right<len(s) and s[left]==s[right]:\n",
        "          left-=1\n",
        "          right+=1\n",
        "        return s[left+1:right]\n",
        "      if s == \"\":\n",
        "        return 0, \"\"\n",
        "      for index in range(len(s)):\n",
        "        evenPal = isPalin(index,index+1)\n",
        "        oddPal = isPalin(index,index)\n",
        "        if len(evenPal)> max_len:\n",
        "          max_len = len(evenPal)\n",
        "          max_substring = evenPal\n",
        "        elif len(oddPal)> max_len:\n",
        "          max_len = len(oddPal)\n",
        "          max_substring = oddPal\n",
        "      return max_len, max_substring\n",
        "\n",
        "\n",
        "if __name__ == \"__main__\":\n",
        "  a = Solution()\n",
        "  s = \"kkkkkkbabababsdf\"\n",
        "  k = a.longestPalindrome(s)\n",
        "  print(k)"
      ],
      "metadata": {
        "colab": {
          "base_uri": "https://localhost:8080/"
        },
        "id": "dwFjjQ4SUZ3B",
        "outputId": "8ed9d100-6859-40d4-9724-67c40ddf293e"
      },
      "execution_count": 22,
      "outputs": [
        {
          "output_type": "stream",
          "name": "stdout",
          "text": [
            "(7, 'bababab')\n"
          ]
        }
      ]
    },
    {
      "cell_type": "markdown",
      "source": [
        "# 7. Reverse Integer"
      ],
      "metadata": {
        "id": "hiOEPbHuNLRK"
      }
    },
    {
      "cell_type": "markdown",
      "source": [
        "Given a signed 32-bit integer x, return x with its digits reversed. If reversing x causes the value to go outside the signed 32-bit integer range [-231, 231 - 1], then return 0.\n",
        "\n",
        "Assume the environment does not allow you to store 64-bit integers (signed or unsigned).\n",
        "\n",
        "\n",
        "\n",
        "Example 1:\n",
        "\n",
        "Input: x = 123\n",
        "Output: 321\n",
        "Example 2:\n",
        "\n",
        "Input: x = -123\n",
        "Output: -321\n",
        "Example 3:\n",
        "\n",
        "Input: x = 120\n",
        "Output: 21"
      ],
      "metadata": {
        "id": "h89HriAdNOgX"
      }
    },
    {
      "cell_type": "code",
      "source": [
        "class Solution(object):\n",
        "    def reverse(self, x):\n",
        "        \"\"\"\n",
        "        :type x: int\n",
        "        :rtype: int\n",
        "        \"\"\"\n",
        "        sign = -1 if x < 0 else 1\n",
        "        num = 0\n",
        "        x = abs(x)\n",
        "        while x!= 0:\n",
        "            digit = x%10\n",
        "            x = x//10\n",
        "            num = num*10 +digit\n",
        "        result = num*sign\n",
        "        if result < -2**31 or result > 2**31 -1:\n",
        "            return 0\n",
        "        return  result\n",
        "if __name__ == \"__main__\":\n",
        "  x = -123\n",
        "  obj = Solution()\n",
        "  k = obj.reverse(x)\n",
        "  print(k)"
      ],
      "metadata": {
        "colab": {
          "base_uri": "https://localhost:8080/"
        },
        "id": "MAAwfCOuNT1G",
        "outputId": "1c888ca2-2f0d-48f7-bb35-a00de77a97b7"
      },
      "execution_count": null,
      "outputs": [
        {
          "output_type": "stream",
          "name": "stdout",
          "text": [
            "-321\n"
          ]
        }
      ]
    },
    {
      "cell_type": "code",
      "source": [
        "class Solution(object):\n",
        "    def reverse(self, x):\n",
        "      result = 0\n",
        "      sign = -1 if x<0 else 1\n",
        "      x = abs(x)\n",
        "      while x != 0:\n",
        "        rem = x%10\n",
        "        result = 10*result + rem\n",
        "        x = x//10\n",
        "      return sign*result\n",
        "\n",
        "\n",
        "\n",
        "if __name__ == \"__main__\":\n",
        "  x = -1231\n",
        "  obj = Solution()\n",
        "  k = obj.reverse(x)\n",
        "  print(k)\n",
        "\n"
      ],
      "metadata": {
        "colab": {
          "base_uri": "https://localhost:8080/"
        },
        "id": "dcrKgWBpkJj4",
        "outputId": "a7720294-8544-4781-fc9d-7148ce981a80"
      },
      "execution_count": 27,
      "outputs": [
        {
          "output_type": "stream",
          "name": "stdout",
          "text": [
            "-1321\n"
          ]
        }
      ]
    },
    {
      "cell_type": "markdown",
      "source": [
        "```\n",
        "TC: O(k) -- no. of digits\n",
        "SC: O(1) --"
      ],
      "metadata": {
        "id": "svANu6-dp0Lq"
      }
    },
    {
      "cell_type": "markdown",
      "source": [
        "# 9. Palindrome Number"
      ],
      "metadata": {
        "id": "zR1LhCDCO8Bh"
      }
    },
    {
      "cell_type": "markdown",
      "source": [
        "Example 1:\n",
        "\n",
        "Input: x = 121\n",
        "Output: true\n",
        "Explanation: 121 reads as 121 from left to right and from right to left.\n",
        "Example 2:\n",
        "\n",
        "Input: x = -121\n",
        "Output: false"
      ],
      "metadata": {
        "id": "TeUWoGujO89l"
      }
    },
    {
      "cell_type": "markdown",
      "source": [
        "list.reverse() method: This method reverses the elements of a list in-place, meaning it modifies the original list directly and does not return a new list.\n",
        "```\n",
        "    my_list = [1, 2, 3, 4]\n",
        "    my_list.reverse()\n",
        "    print(my_list)  # Output: [4, 3, 2, 1]\n",
        "```\n",
        "\n",
        "reversed() built-in function: This function returns an iterator that yields elements in reverse order. It does not modify the original list. To get a new reversed list, you can convert the iterator to a list using list()\n",
        "```\n",
        "    my_list = [1, 2, 3, 4]\n",
        "    reversed_iterator = reversed(my_list)\n",
        "    new_list = list(reversed_iterator)\n",
        "    print(new_list)  # Output: [4, 3, 2, 1]\n",
        "    print(my_list)   # Output: [1, 2, 3, 4] (original list remains unchanged)\n",
        "```\n",
        "Slicing with [::-1]: This creates a new reversed copy of the list using slice notation.\n",
        "```\n",
        "    my_list = [1, 2, 3, 4]\n",
        "    new_list = my_list[::-1]\n",
        "    print(new_list)  # Output: [4, 3, 2, 1]\n",
        "    print(my_list)   # Output: [1, 2, 3, 4]\n",
        "\n",
        "\n",
        "    my_string = \"hello\"\n",
        "    reversed_string = my_string[::-1]\n",
        "    print(reversed_string)  # Output: olleh\n",
        "```\n",
        "Reversing Strings:\n",
        "reversed() built-in function with join(): Similar to lists, you can use reversed() to get an iterator of characters in reverse order and then join() them back into a string.\n",
        "\n",
        "```\n",
        "    my_string = \"hello\"\n",
        "    reversed_string = \"\".join(reversed(my_string))\n",
        "    print(reversed_string)  # Output: olleh\n",
        "```"
      ],
      "metadata": {
        "id": "8-EFR4nyQgId"
      }
    },
    {
      "cell_type": "markdown",
      "source": [
        "Integer to list\n",
        "```\n",
        "x = 123\n",
        "my_list = [x]\n",
        "print(my_list)\n",
        "# Output: [123]\n",
        "```"
      ],
      "metadata": {
        "id": "Ty8pMcGaUG-v"
      }
    },
    {
      "cell_type": "code",
      "source": [
        "class Solution(object):\n",
        "    def isPalindrome(self, x):\n",
        "        \"\"\"\n",
        "        :type x: int\n",
        "        :rtype: bool\n",
        "        \"\"\"\n",
        "        if x < 0 or (x%10==0 and x!=0):\n",
        "          return False\n",
        "        half_rev = 0\n",
        "        while x > half_rev:\n",
        "          half_rev = half_rev*10 + x%10\n",
        "          x = x//10\n",
        "        return x == half_rev or x == half_rev//10\n",
        "\n",
        "if __name__ == \"__main__\":\n",
        "  x = 123321\n",
        "  obj = Solution()\n",
        "  k = obj.isPalindrome(x)\n",
        "  print(k)"
      ],
      "metadata": {
        "colab": {
          "base_uri": "https://localhost:8080/"
        },
        "id": "Y5ArO9wlO-70",
        "outputId": "9ed5f568-f434-4b19-c357-43c42492fcd4"
      },
      "execution_count": null,
      "outputs": [
        {
          "output_type": "stream",
          "name": "stdout",
          "text": [
            "True\n"
          ]
        }
      ]
    },
    {
      "cell_type": "code",
      "source": [
        "class Solution(object):\n",
        "    def isPalindrome(self, input):\n",
        "      result = 0\n",
        "      x = input\n",
        "      while x!=0:\n",
        "        rem = x%10\n",
        "        result = result*10 + rem\n",
        "        x = x//10\n",
        "      return result == input\n",
        "\n",
        "\n",
        "if __name__ == \"__main__\":\n",
        "  x = 1233271\n",
        "  obj = Solution()\n",
        "  k = obj.isPalindrome(x)\n",
        "  print(k)"
      ],
      "metadata": {
        "colab": {
          "base_uri": "https://localhost:8080/"
        },
        "id": "lmKtjiBjsh6d",
        "outputId": "cae0b9b5-58dd-4d2c-fe17-0d0f47b62a45"
      },
      "execution_count": 43,
      "outputs": [
        {
          "output_type": "stream",
          "name": "stdout",
          "text": [
            "False\n"
          ]
        }
      ]
    },
    {
      "cell_type": "code",
      "source": [
        "class Solution(object):\n",
        "    def isPalindrome(self, x):\n",
        "      x = str(x)\n",
        "      for index in range(len(x)/2):\n",
        "        while x[index] == x[len(x)]\n",
        "\n",
        "\n",
        "if __name__ == \"__main__\":\n",
        "  x = 123321\n",
        "  obj = Solution()\n",
        "  k = obj.isPalindrome(x)\n",
        "  print(k)"
      ],
      "metadata": {
        "colab": {
          "base_uri": "https://localhost:8080/"
        },
        "id": "iKbizYO8w2SY",
        "outputId": "1671404b-8b4a-4ec0-b96f-cfcce5a1201e"
      },
      "execution_count": 49,
      "outputs": [
        {
          "output_type": "stream",
          "name": "stdout",
          "text": [
            "123321\n",
            "None\n"
          ]
        }
      ]
    },
    {
      "cell_type": "markdown",
      "source": [
        "# 11. Container With Most Water"
      ],
      "metadata": {
        "id": "-BNOFSUWZgHl"
      }
    },
    {
      "cell_type": "markdown",
      "source": [
        "You are given an integer array height of length n. There are n vertical lines drawn such that the two endpoints of the ith line are (i, 0) and (i, height[i]).\n",
        "\n",
        "Find two lines that together with the x-axis form a container, such that the container contains the most water.\n",
        "\n",
        "Return the maximum amount of water a container can store.\n",
        "Input: height = [1,8,6,2,5,4,8,3,7]\n",
        "Output: 49\n",
        "Explanation: The above vertical lines are represented by array [1,8,6,2,5,4,8,3,7]. In this case, the max area of water (blue section) the container can contain is 49."
      ],
      "metadata": {
        "id": "TLv5CiSFZitp"
      }
    },
    {
      "cell_type": "code",
      "source": [
        "def maxarea(num):\n",
        "  left,right = 0,len(num)-1\n",
        "  maxarea = 0\n",
        "  while right>left:\n",
        "    areaa = min(num[left],num[right])*(right-left)\n",
        "    maxarea = max(maxarea,areaa)\n",
        "    if num[left]>num[right]:\n",
        "      right-=1\n",
        "    else:\n",
        "      left+=1\n",
        "  return maxarea\n",
        "num = [1,8,6,2,5,4,8,3,7]\n",
        "k = maxarea(num)\n",
        "print(k)"
      ],
      "metadata": {
        "colab": {
          "base_uri": "https://localhost:8080/"
        },
        "id": "kspzDYeUZpS_",
        "outputId": "63e095a9-52e2-445f-f4ae-d71326022487"
      },
      "execution_count": null,
      "outputs": [
        {
          "output_type": "stream",
          "name": "stdout",
          "text": [
            "49\n"
          ]
        }
      ]
    },
    {
      "cell_type": "markdown",
      "source": [
        "Why O(n):\n",
        "You start with left = 0 and right = n - 1.\n",
        "\n",
        "In each step, you only move one pointer (left += 1 or right -= 1).\n",
        "\n",
        "This means you make at most n steps total, because each pointer moves at most n times combined."
      ],
      "metadata": {
        "id": "mxlX3c3-dgEB"
      }
    },
    {
      "cell_type": "markdown",
      "source": [
        "# 14. Longest Common Prefix"
      ],
      "metadata": {
        "id": "tVtvLVcKpTFi"
      }
    },
    {
      "cell_type": "markdown",
      "source": [
        "Write a function to find the longest common prefix string amongst an array of strings.\n",
        "\n",
        "If there is no common prefix, return an empty string \"\".\n",
        "\n",
        "Example 1:\n",
        "Input: strs = [\"flower\",\"flow\",\"flight\"]\n",
        "Output: \"fl\"\n",
        "Example 2:\n",
        "Input: strs = [\"dog\",\"racecar\",\"car\"]\n",
        "Output: \"\"\n",
        "Explanation: There is no common prefix among the input strings.\n"
      ],
      "metadata": {
        "id": "Fcy4wZUupWmY"
      }
    },
    {
      "cell_type": "code",
      "source": [
        "def longestCommonPrefix(strs):\n",
        "  for i,val in enumerate(strs[0]):\n",
        "    for elements in strs[1:]:\n",
        "      if val != elements[i] or i>=len(elements):\n",
        "        return strs[0][:i]\n",
        "strs = [\"flower\",\"flow\",\"floight\"]\n",
        "longestCommonPrefix(strs)\n",
        " #TC: O(M*N)"
      ],
      "metadata": {
        "colab": {
          "base_uri": "https://localhost:8080/",
          "height": 35
        },
        "id": "f-4qsW_6pV7F",
        "outputId": "90b6bd2e-b33f-44e1-fda9-3352742c4d94"
      },
      "execution_count": null,
      "outputs": [
        {
          "output_type": "execute_result",
          "data": {
            "text/plain": [
              "'flo'"
            ],
            "application/vnd.google.colaboratory.intrinsic+json": {
              "type": "string"
            }
          },
          "metadata": {},
          "execution_count": 22
        }
      ]
    },
    {
      "cell_type": "code",
      "source": [
        "\n",
        "def longestCommonPrefix(strs):\n",
        "    if not strs:\n",
        "        return \"\"\n",
        "\n",
        "    prefix = strs[0]\n",
        "\n",
        "    for word in strs[1:]:\n",
        "        while not word.startswith(prefix):\n",
        "            prefix = prefix[:-1]\n",
        "            if not prefix:\n",
        "                return \"\"\n",
        "\n",
        "    return prefix\n",
        "strs = [\"flower\",\"flow\",\"floight\"]\n",
        "longestCommonPrefix(strs)\n",
        " #TC:O(S) where S = total number of characters in all strings."
      ],
      "metadata": {
        "colab": {
          "base_uri": "https://localhost:8080/",
          "height": 35
        },
        "id": "rYd3xARi0xpR",
        "outputId": "7c014893-a81b-47f4-9022-0e155e73496d"
      },
      "execution_count": null,
      "outputs": [
        {
          "output_type": "execute_result",
          "data": {
            "text/plain": [
              "'flo'"
            ],
            "application/vnd.google.colaboratory.intrinsic+json": {
              "type": "string"
            }
          },
          "metadata": {},
          "execution_count": 25
        }
      ]
    },
    {
      "cell_type": "markdown",
      "source": [
        "# 15. 3Sum\n"
      ],
      "metadata": {
        "id": "5SYsPnwxXK3x"
      }
    }
  ]
}